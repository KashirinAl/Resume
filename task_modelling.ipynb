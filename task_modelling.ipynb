{
 "cells": [
  {
   "cell_type": "code",
   "execution_count": 1,
   "id": "b9bbfa93",
   "metadata": {},
   "outputs": [],
   "source": [
    "import numpy as np\n",
    "import pandas as pd\n",
    "import matplotlib.pyplot as plt\n",
    "\n",
    "from sklearn.linear_model import LinearRegression\n",
    "from sklearn.linear_model import LogisticRegression\n",
    "from sklearn.metrics import roc_curve\n",
    "from sklearn.metrics import roc_auc_score\n",
    "from sklearn import tree\n",
    "\n",
    "from sklearn import datasets, linear_model\n",
    "import statsmodels.api as sm\n",
    "import scipy.stats as st"
   ]
  },
  {
   "cell_type": "code",
   "execution_count": 2,
   "id": "d07bd1b5",
   "metadata": {},
   "outputs": [
    {
     "data": {
      "text/html": [
       "<div>\n",
       "<style scoped>\n",
       "    .dataframe tbody tr th:only-of-type {\n",
       "        vertical-align: middle;\n",
       "    }\n",
       "\n",
       "    .dataframe tbody tr th {\n",
       "        vertical-align: top;\n",
       "    }\n",
       "\n",
       "    .dataframe thead th {\n",
       "        text-align: right;\n",
       "    }\n",
       "</style>\n",
       "<table border=\"1\" class=\"dataframe\">\n",
       "  <thead>\n",
       "    <tr style=\"text-align: right;\">\n",
       "      <th></th>\n",
       "      <th>Время ожидания, c</th>\n",
       "    </tr>\n",
       "    <tr>\n",
       "      <th>Порядковый номер наблюдения</th>\n",
       "      <th></th>\n",
       "    </tr>\n",
       "  </thead>\n",
       "  <tbody>\n",
       "    <tr>\n",
       "      <th>1</th>\n",
       "      <td>27</td>\n",
       "    </tr>\n",
       "    <tr>\n",
       "      <th>2</th>\n",
       "      <td>24</td>\n",
       "    </tr>\n",
       "    <tr>\n",
       "      <th>3</th>\n",
       "      <td>17</td>\n",
       "    </tr>\n",
       "    <tr>\n",
       "      <th>4</th>\n",
       "      <td>19</td>\n",
       "    </tr>\n",
       "    <tr>\n",
       "      <th>5</th>\n",
       "      <td>30</td>\n",
       "    </tr>\n",
       "    <tr>\n",
       "      <th>6</th>\n",
       "      <td>29</td>\n",
       "    </tr>\n",
       "    <tr>\n",
       "      <th>7</th>\n",
       "      <td>23</td>\n",
       "    </tr>\n",
       "    <tr>\n",
       "      <th>8</th>\n",
       "      <td>31</td>\n",
       "    </tr>\n",
       "    <tr>\n",
       "      <th>9</th>\n",
       "      <td>19</td>\n",
       "    </tr>\n",
       "    <tr>\n",
       "      <th>10</th>\n",
       "      <td>18</td>\n",
       "    </tr>\n",
       "    <tr>\n",
       "      <th>11</th>\n",
       "      <td>26</td>\n",
       "    </tr>\n",
       "    <tr>\n",
       "      <th>12</th>\n",
       "      <td>24</td>\n",
       "    </tr>\n",
       "    <tr>\n",
       "      <th>13</th>\n",
       "      <td>20</td>\n",
       "    </tr>\n",
       "    <tr>\n",
       "      <th>14</th>\n",
       "      <td>22</td>\n",
       "    </tr>\n",
       "    <tr>\n",
       "      <th>15</th>\n",
       "      <td>15</td>\n",
       "    </tr>\n",
       "    <tr>\n",
       "      <th>16</th>\n",
       "      <td>7</td>\n",
       "    </tr>\n",
       "    <tr>\n",
       "      <th>17</th>\n",
       "      <td>25</td>\n",
       "    </tr>\n",
       "    <tr>\n",
       "      <th>18</th>\n",
       "      <td>27</td>\n",
       "    </tr>\n",
       "    <tr>\n",
       "      <th>19</th>\n",
       "      <td>28</td>\n",
       "    </tr>\n",
       "    <tr>\n",
       "      <th>20</th>\n",
       "      <td>28</td>\n",
       "    </tr>\n",
       "    <tr>\n",
       "      <th>21</th>\n",
       "      <td>24</td>\n",
       "    </tr>\n",
       "    <tr>\n",
       "      <th>22</th>\n",
       "      <td>19</td>\n",
       "    </tr>\n",
       "    <tr>\n",
       "      <th>23</th>\n",
       "      <td>15</td>\n",
       "    </tr>\n",
       "    <tr>\n",
       "      <th>24</th>\n",
       "      <td>21</td>\n",
       "    </tr>\n",
       "    <tr>\n",
       "      <th>25</th>\n",
       "      <td>31</td>\n",
       "    </tr>\n",
       "    <tr>\n",
       "      <th>26</th>\n",
       "      <td>11</td>\n",
       "    </tr>\n",
       "    <tr>\n",
       "      <th>27</th>\n",
       "      <td>36</td>\n",
       "    </tr>\n",
       "    <tr>\n",
       "      <th>28</th>\n",
       "      <td>24</td>\n",
       "    </tr>\n",
       "    <tr>\n",
       "      <th>29</th>\n",
       "      <td>16</td>\n",
       "    </tr>\n",
       "    <tr>\n",
       "      <th>30</th>\n",
       "      <td>29</td>\n",
       "    </tr>\n",
       "  </tbody>\n",
       "</table>\n",
       "</div>"
      ],
      "text/plain": [
       "                             Время ожидания, c\n",
       "Порядковый номер наблюдения                   \n",
       "1                                           27\n",
       "2                                           24\n",
       "3                                           17\n",
       "4                                           19\n",
       "5                                           30\n",
       "6                                           29\n",
       "7                                           23\n",
       "8                                           31\n",
       "9                                           19\n",
       "10                                          18\n",
       "11                                          26\n",
       "12                                          24\n",
       "13                                          20\n",
       "14                                          22\n",
       "15                                          15\n",
       "16                                           7\n",
       "17                                          25\n",
       "18                                          27\n",
       "19                                          28\n",
       "20                                          28\n",
       "21                                          24\n",
       "22                                          19\n",
       "23                                          15\n",
       "24                                          21\n",
       "25                                          31\n",
       "26                                          11\n",
       "27                                          36\n",
       "28                                          24\n",
       "29                                          16\n",
       "30                                          29"
      ]
     },
     "execution_count": 2,
     "metadata": {},
     "output_type": "execute_result"
    }
   ],
   "source": [
    "task_1 = pd.read_excel(\n",
    "    '3_task_моделирование.xlsx', \n",
    "    sheet_name = 'Задание 1'\n",
    ")[\n",
    "    ['Порядковый номер наблюдения','Время ожидания, c']\n",
    "]\n",
    "task_2 = task_1.set_index('Порядковый номер наблюдения')\n",
    "task_2"
   ]
  },
  {
   "cell_type": "markdown",
   "id": "7af8dc50",
   "metadata": {},
   "source": [
    "# 1 Можно ли утверждать, что среднее время ожидания ответа оператора стало больше 20 секунд (допуская, что время ожидания имеет нормальное распределение)"
   ]
  },
  {
   "cell_type": "code",
   "execution_count": 3,
   "id": "2cec82cc",
   "metadata": {},
   "outputs": [
    {
     "name": "stdout",
     "output_type": "stream",
     "text": [
      "\n",
      "    Различие:             -0.55 \n",
      "    Дисперсии:            (33.45, 47.54)\n",
      "    Средние:              (22.95, 22.4)\n",
      "    Дисперсии_к_среднему: (1.46, 2.12)\n",
      "    Различие в %:         -2.40%\n",
      "    P_значение:           79.14%\n",
      "    Статистически значимых улучшений нет. Слишком высокая дисперсия у групп - больше, чем среднее.\n",
      "\n"
     ]
    }
   ],
   "source": [
    "p_val = st.ttest_ind(\n",
    "    task_2[0:20],\n",
    "    task_2[10:31],\n",
    "    axis=0,\n",
    "    equal_var=True,\n",
    "    nan_policy='propagate',\n",
    "    permutations=None,\n",
    "    random_state=None,\n",
    "    alternative='two-sided',\n",
    "    trim=0).pvalue[0]\n",
    "\n",
    "delta = round( task_2[10:31].mean()[0] - task_2[0:20].mean()[0] , 2)\n",
    "delta_p = delta / task_2[0:20].mean()[0]\n",
    "disps = round(np.var(task_2[0:20])[0],2),round(np.var(task_2[10:31])[0],2)\n",
    "means = round(np.mean(task_2[0:20])[0],2),round(np.mean(task_2[10:31])[0],2)\n",
    "\n",
    "\n",
    "delta\n",
    "\n",
    "ans = f'''\n",
    "    Различие:             {delta} \n",
    "    Дисперсии:            {disps}\n",
    "    Средние:              {means}\n",
    "    Дисперсии_к_среднему: {round( disps[0]/means[0],2), round(disps[1]/means[1],2)}\n",
    "    Различие в %:         {delta_p:.2%}\n",
    "    P_значение:           {p_val:.2%}\n",
    "    Статистически значимых улучшений нет. Слишком высокая дисперсия у групп - больше, чем среднее.\n",
    "'''\n",
    "\n",
    "print(ans)"
   ]
  },
  {
   "cell_type": "markdown",
   "id": "38ed00da",
   "metadata": {},
   "source": [
    "# 2 Какой нужен объём выборки для доверительного интервала 95% с точностью +-2 секунды."
   ]
  },
  {
   "cell_type": "code",
   "execution_count": 4,
   "id": "0e91ca48",
   "metadata": {},
   "outputs": [
    {
     "data": {
      "text/plain": [
       "22.833333333333332"
      ]
     },
     "execution_count": 4,
     "metadata": {},
     "output_type": "execute_result"
    }
   ],
   "source": [
    "# Сначала вычисляем доверительный интервал для текущей выборки\n",
    "# Затем делаем \"Reversive Modelling\" - обратный расчёт, исходя из выбранных параметров\n",
    "std_n = np.std(\n",
    "    task_2, \n",
    "    axis=None, \n",
    "    dtype=None, \n",
    "    out=None, \n",
    "    ddof=0)[0]\n",
    "\n",
    "sqrt_n = np.sqrt( len(task_2) )\n",
    "\n",
    "mean_n = task_2.mean()\n",
    "\n",
    "SEM = std_n / sqrt_n\n",
    "SEM\n",
    "\n",
    "mean_n[0]"
   ]
  },
  {
   "cell_type": "markdown",
   "id": "359e644d",
   "metadata": {},
   "source": [
    "95% распределения выборочных средних находится в пределах 1,96 стандартных отклонений (SD) среднего популяции."
   ]
  },
  {
   "cell_type": "code",
   "execution_count": 5,
   "id": "91274c31",
   "metadata": {},
   "outputs": [
    {
     "name": "stdout",
     "output_type": "stream",
     "text": [
      "Минимальный объём выборки: 40.0\n"
     ]
    }
   ],
   "source": [
    "SEM_n = 2/1.96\n",
    "n = ( std_n / SEM_n )**2\n",
    "print(f'Минимальный объём выборки: {round(n,0)+1}' )"
   ]
  },
  {
   "cell_type": "markdown",
   "id": "2ff6cfa7",
   "metadata": {},
   "source": [
    "# 3 Получить уравнение линейной регрессии для предсказания объёма продаж в зависимости от затрат на рекламу\n",
    "### Показать на графике модель и наблюдения\n",
    "### Предсказать объём продаж при расходах 121 тыс. руб.\n",
    "### Оценить статистическую значимость коэффициентов"
   ]
  },
  {
   "cell_type": "code",
   "execution_count": 6,
   "id": "4a4c48ba",
   "metadata": {},
   "outputs": [
    {
     "data": {
      "text/html": [
       "<div>\n",
       "<style scoped>\n",
       "    .dataframe tbody tr th:only-of-type {\n",
       "        vertical-align: middle;\n",
       "    }\n",
       "\n",
       "    .dataframe tbody tr th {\n",
       "        vertical-align: top;\n",
       "    }\n",
       "\n",
       "    .dataframe thead th {\n",
       "        text-align: right;\n",
       "    }\n",
       "</style>\n",
       "<table border=\"1\" class=\"dataframe\">\n",
       "  <thead>\n",
       "    <tr style=\"text-align: right;\">\n",
       "      <th></th>\n",
       "      <th>Затраты на рекламу, тыс. руб.</th>\n",
       "      <th>Объем продаж, тыс. шт.</th>\n",
       "    </tr>\n",
       "  </thead>\n",
       "  <tbody>\n",
       "    <tr>\n",
       "      <th>0</th>\n",
       "      <td>230.1</td>\n",
       "      <td>22.1</td>\n",
       "    </tr>\n",
       "    <tr>\n",
       "      <th>1</th>\n",
       "      <td>44.5</td>\n",
       "      <td>10.4</td>\n",
       "    </tr>\n",
       "    <tr>\n",
       "      <th>2</th>\n",
       "      <td>17.2</td>\n",
       "      <td>9.3</td>\n",
       "    </tr>\n",
       "    <tr>\n",
       "      <th>3</th>\n",
       "      <td>151.5</td>\n",
       "      <td>18.5</td>\n",
       "    </tr>\n",
       "    <tr>\n",
       "      <th>4</th>\n",
       "      <td>180.8</td>\n",
       "      <td>12.9</td>\n",
       "    </tr>\n",
       "    <tr>\n",
       "      <th>...</th>\n",
       "      <td>...</td>\n",
       "      <td>...</td>\n",
       "    </tr>\n",
       "    <tr>\n",
       "      <th>195</th>\n",
       "      <td>38.2</td>\n",
       "      <td>7.6</td>\n",
       "    </tr>\n",
       "    <tr>\n",
       "      <th>196</th>\n",
       "      <td>94.2</td>\n",
       "      <td>9.7</td>\n",
       "    </tr>\n",
       "    <tr>\n",
       "      <th>197</th>\n",
       "      <td>177.0</td>\n",
       "      <td>12.8</td>\n",
       "    </tr>\n",
       "    <tr>\n",
       "      <th>198</th>\n",
       "      <td>283.6</td>\n",
       "      <td>25.5</td>\n",
       "    </tr>\n",
       "    <tr>\n",
       "      <th>199</th>\n",
       "      <td>232.1</td>\n",
       "      <td>13.4</td>\n",
       "    </tr>\n",
       "  </tbody>\n",
       "</table>\n",
       "<p>200 rows × 2 columns</p>\n",
       "</div>"
      ],
      "text/plain": [
       "     Затраты на рекламу, тыс. руб.  Объем продаж, тыс. шт.\n",
       "0                            230.1                    22.1\n",
       "1                             44.5                    10.4\n",
       "2                             17.2                     9.3\n",
       "3                            151.5                    18.5\n",
       "4                            180.8                    12.9\n",
       "..                             ...                     ...\n",
       "195                           38.2                     7.6\n",
       "196                           94.2                     9.7\n",
       "197                          177.0                    12.8\n",
       "198                          283.6                    25.5\n",
       "199                          232.1                    13.4\n",
       "\n",
       "[200 rows x 2 columns]"
      ]
     },
     "execution_count": 6,
     "metadata": {},
     "output_type": "execute_result"
    }
   ],
   "source": [
    "task_3 = pd.read_excel(\n",
    "    '3_task_моделирование.xlsx', \n",
    "    sheet_name = 'Задание 2'\n",
    ")[\n",
    "    ['Затраты на рекламу, тыс. руб.','Объем продаж, тыс. шт.']\n",
    "]\n",
    "task_3"
   ]
  },
  {
   "cell_type": "code",
   "execution_count": 7,
   "id": "ca163c8f",
   "metadata": {},
   "outputs": [
    {
     "name": "stdout",
     "output_type": "stream",
     "text": [
      "Объем продаж, тыс. шт. = 7.033 + 4.75% * Затраты на рекламу, тыс. руб.\n"
     ]
    }
   ],
   "source": [
    "X = np.array(task_3['Затраты на рекламу, тыс. руб.']).reshape(-1,1)\n",
    "y = np.array(task_3['Объем продаж, тыс. шт.']).reshape(-1,1)\n",
    "\n",
    "reg = LinearRegression().fit(X, y)\n",
    "reg.score(X, y)\n",
    "Predict = reg.predict(\n",
    "    X\n",
    "            ).reshape(-1,1)\n",
    "\n",
    "a = reg.coef_[0][0]\n",
    "b = reg.intercept_[0]\n",
    "\n",
    "print(f'Объем продаж, тыс. шт. = {b:.3f} + {a:.2%} * Затраты на рекламу, тыс. руб.')"
   ]
  },
  {
   "cell_type": "code",
   "execution_count": 8,
   "id": "bc1164c1",
   "metadata": {},
   "outputs": [
    {
     "data": {
      "image/png": "[encoded data removed]",
      "text/plain": [
       "<Figure size 432x288 with 1 Axes>"
      ]
     },
     "metadata": {
      "needs_background": "light"
     },
     "output_type": "display_data"
    }
   ],
   "source": [
    "plt.scatter(X, y, label='data')\n",
    "plt.scatter(X, Predict, label='linear_prediction')\n",
    "\n",
    "plt.xlabel('Затраты на рекламу, тыс. руб.')\n",
    "plt.ylabel('Объем продаж, тыс. шт.')\n",
    "\n",
    "plt.legend();\n",
    "plt.show()"
   ]
  },
  {
   "cell_type": "code",
   "execution_count": 9,
   "id": "217df858",
   "metadata": {},
   "outputs": [],
   "source": [
    "X_1 = np.array([121]).reshape(-1,1)"
   ]
  },
  {
   "cell_type": "code",
   "execution_count": 10,
   "id": "ec2248a8",
   "metadata": {},
   "outputs": [
    {
     "data": {
      "text/plain": [
       "'При затратах 121 тыс. руб. пргноз: 12.8 тыс. шт.'"
      ]
     },
     "execution_count": 10,
     "metadata": {},
     "output_type": "execute_result"
    }
   ],
   "source": [
    "predict_121 = reg.predict(\n",
    "    X_1\n",
    "            )[0][0]\n",
    "\n",
    "f'При затратах 121 тыс. руб. пргноз: {predict_121:.3} тыс. шт.'"
   ]
  },
  {
   "cell_type": "code",
   "execution_count": 11,
   "id": "e8de28ba",
   "metadata": {},
   "outputs": [
    {
     "name": "stdout",
     "output_type": "stream",
     "text": [
      "                                 OLS Regression Results                                \n",
      "=======================================================================================\n",
      "Dep. Variable:                      y   R-squared (uncentered):                   0.897\n",
      "Model:                            OLS   Adj. R-squared (uncentered):              0.896\n",
      "Method:                 Least Squares   F-statistic:                              1733.\n",
      "Date:                Sat, 17 Dec 2022   Prob (F-statistic):                   3.52e-100\n",
      "Time:                        09:45:59   Log-Likelihood:                         -597.51\n",
      "No. Observations:                 200   AIC:                                      1197.\n",
      "Df Residuals:                     199   BIC:                                      1200.\n",
      "Df Model:                           1                                                  \n",
      "Covariance Type:            nonrobust                                                  \n",
      "==============================================================================\n",
      "                 coef    std err          t      P>|t|      [0.025      0.975]\n",
      "------------------------------------------------------------------------------\n",
      "x1             0.0832      0.002     41.633      0.000       0.079       0.087\n",
      "==============================================================================\n",
      "Omnibus:                       20.228   Durbin-Watson:                   1.707\n",
      "Prob(Omnibus):                  0.000   Jarque-Bera (JB):               23.930\n",
      "Skew:                          -0.846   Prob(JB):                     6.36e-06\n",
      "Kurtosis:                       3.086   Cond. No.                         1.00\n",
      "==============================================================================\n",
      "\n",
      "Notes:\n",
      "[1] R² is computed without centering (uncentered) since the model does not contain a constant.\n",
      "[2] Standard Errors assume that the covariance matrix of the errors is correctly specified.\n"
     ]
    }
   ],
   "source": [
    "est = sm.OLS(y, X)\n",
    "est2 = est.fit()\n",
    "print(est2.summary())"
   ]
  },
  {
   "cell_type": "markdown",
   "id": "336f271e",
   "metadata": {},
   "source": [
    "R-квадрат высокий - 94%,\n",
    "\n",
    "Т.к. Prob (F-statistic) околонулевой - критерий уравнения значим"
   ]
  },
  {
   "cell_type": "markdown",
   "id": "52bb1b9f",
   "metadata": {},
   "source": [
    "# 4 Предложить метрику оценки качества двух моделей оценки вероятности дефолта (PD) с графической интерпретацией"
   ]
  },
  {
   "cell_type": "code",
   "execution_count": 12,
   "id": "0184e4bc",
   "metadata": {},
   "outputs": [
    {
     "data": {
      "text/html": [
       "<div>\n",
       "<style scoped>\n",
       "    .dataframe tbody tr th:only-of-type {\n",
       "        vertical-align: middle;\n",
       "    }\n",
       "\n",
       "    .dataframe tbody tr th {\n",
       "        vertical-align: top;\n",
       "    }\n",
       "\n",
       "    .dataframe thead th {\n",
       "        text-align: right;\n",
       "    }\n",
       "</style>\n",
       "<table border=\"1\" class=\"dataframe\">\n",
       "  <thead>\n",
       "    <tr style=\"text-align: right;\">\n",
       "      <th></th>\n",
       "      <th>Факт дефолта</th>\n",
       "      <th>PD  модель 1</th>\n",
       "      <th>PD  модель 2</th>\n",
       "    </tr>\n",
       "  </thead>\n",
       "  <tbody>\n",
       "    <tr>\n",
       "      <th>0</th>\n",
       "      <td>0</td>\n",
       "      <td>0.409821</td>\n",
       "      <td>0.526825</td>\n",
       "    </tr>\n",
       "    <tr>\n",
       "      <th>1</th>\n",
       "      <td>0</td>\n",
       "      <td>0.576899</td>\n",
       "      <td>0.606770</td>\n",
       "    </tr>\n",
       "    <tr>\n",
       "      <th>2</th>\n",
       "      <td>0</td>\n",
       "      <td>0.470889</td>\n",
       "      <td>0.499478</td>\n",
       "    </tr>\n",
       "    <tr>\n",
       "      <th>3</th>\n",
       "      <td>0</td>\n",
       "      <td>0.256406</td>\n",
       "      <td>0.334723</td>\n",
       "    </tr>\n",
       "    <tr>\n",
       "      <th>4</th>\n",
       "      <td>0</td>\n",
       "      <td>0.324825</td>\n",
       "      <td>0.403021</td>\n",
       "    </tr>\n",
       "    <tr>\n",
       "      <th>...</th>\n",
       "      <td>...</td>\n",
       "      <td>...</td>\n",
       "      <td>...</td>\n",
       "    </tr>\n",
       "    <tr>\n",
       "      <th>306</th>\n",
       "      <td>0</td>\n",
       "      <td>0.488246</td>\n",
       "      <td>0.568671</td>\n",
       "    </tr>\n",
       "    <tr>\n",
       "      <th>307</th>\n",
       "      <td>0</td>\n",
       "      <td>0.508478</td>\n",
       "      <td>0.518769</td>\n",
       "    </tr>\n",
       "    <tr>\n",
       "      <th>308</th>\n",
       "      <td>1</td>\n",
       "      <td>0.515479</td>\n",
       "      <td>0.109161</td>\n",
       "    </tr>\n",
       "    <tr>\n",
       "      <th>309</th>\n",
       "      <td>0</td>\n",
       "      <td>0.555875</td>\n",
       "      <td>0.558406</td>\n",
       "    </tr>\n",
       "    <tr>\n",
       "      <th>310</th>\n",
       "      <td>0</td>\n",
       "      <td>0.437622</td>\n",
       "      <td>0.464133</td>\n",
       "    </tr>\n",
       "  </tbody>\n",
       "</table>\n",
       "<p>311 rows × 3 columns</p>\n",
       "</div>"
      ],
      "text/plain": [
       "     Факт дефолта  PD  модель 1  PD  модель 2\n",
       "0               0      0.409821      0.526825\n",
       "1               0      0.576899      0.606770\n",
       "2               0      0.470889      0.499478\n",
       "3               0      0.256406      0.334723\n",
       "4               0      0.324825      0.403021\n",
       "..            ...           ...           ...\n",
       "306             0      0.488246      0.568671\n",
       "307             0      0.508478      0.518769\n",
       "308             1      0.515479      0.109161\n",
       "309             0      0.555875      0.558406\n",
       "310             0      0.437622      0.464133\n",
       "\n",
       "[311 rows x 3 columns]"
      ]
     },
     "execution_count": 12,
     "metadata": {},
     "output_type": "execute_result"
    }
   ],
   "source": [
    "task_4 = pd.read_excel(\n",
    "    '3_task_моделирование.xlsx', \n",
    "    sheet_name = 'Задание 3'\n",
    ")[\n",
    "    ['Факт дефолта','PD  модель 1', 'PD  модель 2']\n",
    "]\n",
    "task_4"
   ]
  },
  {
   "cell_type": "markdown",
   "id": "4333d51a",
   "metadata": {},
   "source": [
    "### 1 предложение\n",
    "#### оценить для каждой модели - насколько она оказалсь ближе к правильному решению относительно 0.5 - \"непонятно, как\""
   ]
  },
  {
   "cell_type": "code",
   "execution_count": 13,
   "id": "b4e48b64",
   "metadata": {},
   "outputs": [
    {
     "data": {
      "text/html": [
       "<div>\n",
       "<style scoped>\n",
       "    .dataframe tbody tr th:only-of-type {\n",
       "        vertical-align: middle;\n",
       "    }\n",
       "\n",
       "    .dataframe tbody tr th {\n",
       "        vertical-align: top;\n",
       "    }\n",
       "\n",
       "    .dataframe thead th {\n",
       "        text-align: right;\n",
       "    }\n",
       "</style>\n",
       "<table border=\"1\" class=\"dataframe\">\n",
       "  <thead>\n",
       "    <tr style=\"text-align: right;\">\n",
       "      <th></th>\n",
       "      <th>Факт дефолта</th>\n",
       "      <th>PD  модель 1</th>\n",
       "      <th>PD  модель 2</th>\n",
       "      <th>delta_1</th>\n",
       "      <th>delta_2</th>\n",
       "    </tr>\n",
       "  </thead>\n",
       "  <tbody>\n",
       "    <tr>\n",
       "      <th>0</th>\n",
       "      <td>0</td>\n",
       "      <td>0.409821</td>\n",
       "      <td>0.526825</td>\n",
       "      <td>0.090179</td>\n",
       "      <td>-0.026825</td>\n",
       "    </tr>\n",
       "    <tr>\n",
       "      <th>1</th>\n",
       "      <td>0</td>\n",
       "      <td>0.576899</td>\n",
       "      <td>0.606770</td>\n",
       "      <td>-0.076899</td>\n",
       "      <td>-0.106770</td>\n",
       "    </tr>\n",
       "    <tr>\n",
       "      <th>2</th>\n",
       "      <td>0</td>\n",
       "      <td>0.470889</td>\n",
       "      <td>0.499478</td>\n",
       "      <td>0.029111</td>\n",
       "      <td>0.000522</td>\n",
       "    </tr>\n",
       "    <tr>\n",
       "      <th>3</th>\n",
       "      <td>0</td>\n",
       "      <td>0.256406</td>\n",
       "      <td>0.334723</td>\n",
       "      <td>0.243594</td>\n",
       "      <td>0.165277</td>\n",
       "    </tr>\n",
       "    <tr>\n",
       "      <th>4</th>\n",
       "      <td>0</td>\n",
       "      <td>0.324825</td>\n",
       "      <td>0.403021</td>\n",
       "      <td>0.175175</td>\n",
       "      <td>0.096979</td>\n",
       "    </tr>\n",
       "    <tr>\n",
       "      <th>...</th>\n",
       "      <td>...</td>\n",
       "      <td>...</td>\n",
       "      <td>...</td>\n",
       "      <td>...</td>\n",
       "      <td>...</td>\n",
       "    </tr>\n",
       "    <tr>\n",
       "      <th>306</th>\n",
       "      <td>0</td>\n",
       "      <td>0.488246</td>\n",
       "      <td>0.568671</td>\n",
       "      <td>0.011754</td>\n",
       "      <td>-0.068671</td>\n",
       "    </tr>\n",
       "    <tr>\n",
       "      <th>307</th>\n",
       "      <td>0</td>\n",
       "      <td>0.508478</td>\n",
       "      <td>0.518769</td>\n",
       "      <td>-0.008478</td>\n",
       "      <td>-0.018769</td>\n",
       "    </tr>\n",
       "    <tr>\n",
       "      <th>308</th>\n",
       "      <td>1</td>\n",
       "      <td>0.515479</td>\n",
       "      <td>0.109161</td>\n",
       "      <td>0.015479</td>\n",
       "      <td>-0.390839</td>\n",
       "    </tr>\n",
       "    <tr>\n",
       "      <th>309</th>\n",
       "      <td>0</td>\n",
       "      <td>0.555875</td>\n",
       "      <td>0.558406</td>\n",
       "      <td>-0.055875</td>\n",
       "      <td>-0.058406</td>\n",
       "    </tr>\n",
       "    <tr>\n",
       "      <th>310</th>\n",
       "      <td>0</td>\n",
       "      <td>0.437622</td>\n",
       "      <td>0.464133</td>\n",
       "      <td>0.062378</td>\n",
       "      <td>0.035867</td>\n",
       "    </tr>\n",
       "  </tbody>\n",
       "</table>\n",
       "<p>311 rows × 5 columns</p>\n",
       "</div>"
      ],
      "text/plain": [
       "     Факт дефолта  PD  модель 1  PD  модель 2   delta_1   delta_2\n",
       "0               0      0.409821      0.526825  0.090179 -0.026825\n",
       "1               0      0.576899      0.606770 -0.076899 -0.106770\n",
       "2               0      0.470889      0.499478  0.029111  0.000522\n",
       "3               0      0.256406      0.334723  0.243594  0.165277\n",
       "4               0      0.324825      0.403021  0.175175  0.096979\n",
       "..            ...           ...           ...       ...       ...\n",
       "306             0      0.488246      0.568671  0.011754 -0.068671\n",
       "307             0      0.508478      0.518769 -0.008478 -0.018769\n",
       "308             1      0.515479      0.109161  0.015479 -0.390839\n",
       "309             0      0.555875      0.558406 -0.055875 -0.058406\n",
       "310             0      0.437622      0.464133  0.062378  0.035867\n",
       "\n",
       "[311 rows x 5 columns]"
      ]
     },
     "execution_count": 13,
     "metadata": {},
     "output_type": "execute_result"
    }
   ],
   "source": [
    "def DF_delta_1(x):\n",
    "    if x['Факт дефолта'] == 0:\n",
    "        y_1 = 0.5 - x['PD  модель 1']\n",
    "    else:\n",
    "        y_1 = x['PD  модель 1'] - 0.5\n",
    "    return y_1\n",
    "\n",
    "def DF_delta_2(x):\n",
    "    if x['Факт дефолта'] == 0:\n",
    "        y_1 = 0.5 - x['PD  модель 2']\n",
    "    else:\n",
    "        y_1 = x['PD  модель 2'] - 0.5\n",
    "    return y_1\n",
    "\n",
    "\n",
    "task_4['delta_1'] = task_4[['Факт дефолта','PD  модель 1']].apply(DF_delta_1, axis = 1)\n",
    "task_4['delta_2'] = task_4[['Факт дефолта','PD  модель 2']].apply(DF_delta_2, axis = 1)\n",
    "task_4"
   ]
  },
  {
   "cell_type": "code",
   "execution_count": 14,
   "id": "3eef0f7c",
   "metadata": {},
   "outputs": [],
   "source": [
    "task_4['delta_1_agg'] = task_4['delta_1'].cumsum(axis = 0) / len( task_4['delta_1'] )\n",
    "task_4['delta_2_agg'] = task_4['delta_2'].cumsum(axis = 0) / len( task_4['delta_2'] )\n",
    "task_4['delta_cumsums'] = task_4['delta_1_agg'] - task_4['delta_2_agg']"
   ]
  },
  {
   "cell_type": "code",
   "execution_count": 15,
   "id": "1bc8b454",
   "metadata": {},
   "outputs": [
    {
     "data": {
      "text/plain": [
       "<AxesSubplot:>"
      ]
     },
     "execution_count": 15,
     "metadata": {},
     "output_type": "execute_result"
    },
    {
     "data": {
      "image/png": "[encoded data removed]",
      "text/plain": [
       "<Figure size 432x288 with 1 Axes>"
      ]
     },
     "metadata": {
      "needs_background": "light"
     },
     "output_type": "display_data"
    }
   ],
   "source": [
    "task_4[['delta_1_agg','delta_2_agg','delta_cumsums']].plot()"
   ]
  },
  {
   "cell_type": "code",
   "execution_count": 16,
   "id": "c629eed9",
   "metadata": {},
   "outputs": [],
   "source": [
    "pd_1 = pd.DataFrame( task_4[['delta_1','delta_2']].mean(), columns=['mean'] )"
   ]
  },
  {
   "cell_type": "code",
   "execution_count": 17,
   "id": "cff999c2",
   "metadata": {},
   "outputs": [],
   "source": [
    "pd_2 = pd.DataFrame( task_4[['delta_1','delta_2']].var(), columns=['var'] )"
   ]
  },
  {
   "cell_type": "code",
   "execution_count": 18,
   "id": "5438485f",
   "metadata": {},
   "outputs": [],
   "source": [
    "df = pd_1.join(pd_2)"
   ]
  },
  {
   "cell_type": "code",
   "execution_count": 19,
   "id": "335a4c3c",
   "metadata": {},
   "outputs": [
    {
     "data": {
      "text/html": [
       "<div>\n",
       "<style scoped>\n",
       "    .dataframe tbody tr th:only-of-type {\n",
       "        vertical-align: middle;\n",
       "    }\n",
       "\n",
       "    .dataframe tbody tr th {\n",
       "        vertical-align: top;\n",
       "    }\n",
       "\n",
       "    .dataframe thead th {\n",
       "        text-align: right;\n",
       "    }\n",
       "</style>\n",
       "<table border=\"1\" class=\"dataframe\">\n",
       "  <thead>\n",
       "    <tr style=\"text-align: right;\">\n",
       "      <th></th>\n",
       "      <th>mean</th>\n",
       "      <th>var</th>\n",
       "    </tr>\n",
       "  </thead>\n",
       "  <tbody>\n",
       "    <tr>\n",
       "      <th>delta_1</th>\n",
       "      <td>0.036629</td>\n",
       "      <td>0.009256</td>\n",
       "    </tr>\n",
       "    <tr>\n",
       "      <th>delta_2</th>\n",
       "      <td>0.006568</td>\n",
       "      <td>0.015159</td>\n",
       "    </tr>\n",
       "  </tbody>\n",
       "</table>\n",
       "</div>"
      ],
      "text/plain": [
       "             mean       var\n",
       "delta_1  0.036629  0.009256\n",
       "delta_2  0.006568  0.015159"
      ]
     },
     "execution_count": 19,
     "metadata": {},
     "output_type": "execute_result"
    }
   ],
   "source": [
    "df"
   ]
  },
  {
   "cell_type": "code",
   "execution_count": 20,
   "id": "441b77c6",
   "metadata": {},
   "outputs": [
    {
     "data": {
      "text/plain": [
       "0.030060409542131388"
      ]
     },
     "execution_count": 20,
     "metadata": {},
     "output_type": "execute_result"
    }
   ],
   "source": [
    "delt = task_4['delta_1'].mean() - task_4['delta_2'].mean()\n",
    "delt"
   ]
  },
  {
   "cell_type": "code",
   "execution_count": 21,
   "id": "e2acd9dc",
   "metadata": {},
   "outputs": [
    {
     "data": {
      "text/plain": [
       "0.0007360871932160367"
      ]
     },
     "execution_count": 21,
     "metadata": {},
     "output_type": "execute_result"
    }
   ],
   "source": [
    "stest = st.ttest_ind(task_4['delta_1'], task_4['delta_2']).pvalue\n",
    "stest"
   ]
  },
  {
   "cell_type": "code",
   "execution_count": 22,
   "id": "9f15af74",
   "metadata": {},
   "outputs": [
    {
     "name": "stdout",
     "output_type": "stream",
     "text": [
      "\n",
      "Первая модель лучше второй в среднем на 0.03 сотых от среднего с p-значением 0.000736\n",
      "Т.е., первая модель лучше второй - чуть-чуть, но статистичеки значимо.\n"
     ]
    }
   ],
   "source": [
    "print(f'''\n",
    "Первая модель лучше второй в среднем на {delt:.2} сотых от среднего с p-значением {stest:.3}\n",
    "Т.е., первая модель лучше второй - чуть-чуть, но статистичеки значимо.''')"
   ]
  },
  {
   "cell_type": "markdown",
   "id": "ee693b46",
   "metadata": {},
   "source": [
    "### 2 предложение\n",
    "#### Сравнить по показателю ROC-AUC"
   ]
  },
  {
   "cell_type": "code",
   "execution_count": 23,
   "id": "1dffcf5f",
   "metadata": {},
   "outputs": [
    {
     "name": "stdout",
     "output_type": "stream",
     "text": [
      "ROC-AUC = 70.14%\n"
     ]
    },
    {
     "data": {
      "image/png": "[encoded data removed]",
      "text/plain": [
       "<Figure size 432x288 with 1 Axes>"
      ]
     },
     "metadata": {
      "needs_background": "light"
     },
     "output_type": "display_data"
    }
   ],
   "source": [
    "fpr, tpr, thres = roc_curve(task_4['Факт дефолта'], task_4['PD  модель 1'])\n",
    "\n",
    "auto_fpr_tpr = pd.DataFrame(fpr, tpr).reset_index()\n",
    "\n",
    "auto_fpr_tpr.columns=['tpr','fpr']\n",
    "\n",
    "print(f\"ROC-AUC = {roc_auc_score(task_4['Факт дефолта'], task_4['PD  модель 1']):.2%}\")\n",
    "plt.plot( fpr, tpr )\n",
    "plt.grid()"
   ]
  },
  {
   "cell_type": "code",
   "execution_count": 24,
   "id": "c584b1c4",
   "metadata": {},
   "outputs": [
    {
     "name": "stdout",
     "output_type": "stream",
     "text": [
      "ROC-AUC = 61.24%\n"
     ]
    },
    {
     "data": {
      "image/png": "[encoded data removed]",
      "text/plain": [
       "<Figure size 432x288 with 1 Axes>"
      ]
     },
     "metadata": {
      "needs_background": "light"
     },
     "output_type": "display_data"
    }
   ],
   "source": [
    "fpr, tpr, thres = roc_curve(task_4['Факт дефолта'], task_4['PD  модель 2'])\n",
    "\n",
    "auto_fpr_tpr = pd.DataFrame(fpr, tpr).reset_index()\n",
    "\n",
    "auto_fpr_tpr.columns=['tpr','fpr']\n",
    "\n",
    "print(f\"ROC-AUC = {roc_auc_score(task_4['Факт дефолта'], task_4['PD  модель 2']):.2%}\")\n",
    "plt.plot( fpr, tpr )\n",
    "plt.grid()"
   ]
  },
  {
   "cell_type": "code",
   "execution_count": 25,
   "id": "094f9094",
   "metadata": {},
   "outputs": [
    {
     "data": {
      "text/plain": [
       "'По сравнению ROC-AUC первая модель также чуть-чуть лучше второй'"
      ]
     },
     "execution_count": 25,
     "metadata": {},
     "output_type": "execute_result"
    }
   ],
   "source": [
    "f'По сравнению ROC-AUC первая модель также чуть-чуть лучше второй'"
   ]
  },
  {
   "cell_type": "markdown",
   "id": "38908aed",
   "metadata": {},
   "source": [
    "# 5 Посторить 2 модели предсказания дефолта и выбрать лучшую на основе показателя AUC-ROC"
   ]
  },
  {
   "cell_type": "code",
   "execution_count": 26,
   "id": "d2a39f49",
   "metadata": {},
   "outputs": [
    {
     "data": {
      "text/html": [
       "<div>\n",
       "<style scoped>\n",
       "    .dataframe tbody tr th:only-of-type {\n",
       "        vertical-align: middle;\n",
       "    }\n",
       "\n",
       "    .dataframe tbody tr th {\n",
       "        vertical-align: top;\n",
       "    }\n",
       "\n",
       "    .dataframe thead th {\n",
       "        text-align: right;\n",
       "    }\n",
       "</style>\n",
       "<table border=\"1\" class=\"dataframe\">\n",
       "  <thead>\n",
       "    <tr style=\"text-align: right;\">\n",
       "      <th></th>\n",
       "      <th>predictor 1</th>\n",
       "      <th>predictor 2</th>\n",
       "      <th>predictor 3</th>\n",
       "      <th>predictor 4</th>\n",
       "      <th>predictor 5</th>\n",
       "      <th>target</th>\n",
       "      <th>predictor 6</th>\n",
       "    </tr>\n",
       "    <tr>\n",
       "      <th>No</th>\n",
       "      <th></th>\n",
       "      <th></th>\n",
       "      <th></th>\n",
       "      <th></th>\n",
       "      <th></th>\n",
       "      <th></th>\n",
       "      <th></th>\n",
       "    </tr>\n",
       "  </thead>\n",
       "  <tbody>\n",
       "    <tr>\n",
       "      <th>1</th>\n",
       "      <td>12423</td>\n",
       "      <td>710</td>\n",
       "      <td>441.5</td>\n",
       "      <td>5</td>\n",
       "      <td>4631.0</td>\n",
       "      <td>1</td>\n",
       "      <td>0</td>\n",
       "    </tr>\n",
       "    <tr>\n",
       "      <th>2</th>\n",
       "      <td>13983</td>\n",
       "      <td>1106</td>\n",
       "      <td>0.0</td>\n",
       "      <td>3</td>\n",
       "      <td>4256.0</td>\n",
       "      <td>1</td>\n",
       "      <td>1</td>\n",
       "    </tr>\n",
       "    <tr>\n",
       "      <th>3</th>\n",
       "      <td>15520</td>\n",
       "      <td>1276</td>\n",
       "      <td>391.5</td>\n",
       "      <td>1</td>\n",
       "      <td>4397.0</td>\n",
       "      <td>0</td>\n",
       "      <td>0</td>\n",
       "    </tr>\n",
       "    <tr>\n",
       "      <th>4</th>\n",
       "      <td>29535</td>\n",
       "      <td>1106</td>\n",
       "      <td>0.0</td>\n",
       "      <td>1</td>\n",
       "      <td>3772.0</td>\n",
       "      <td>1</td>\n",
       "      <td>1</td>\n",
       "    </tr>\n",
       "    <tr>\n",
       "      <th>5</th>\n",
       "      <td>26154</td>\n",
       "      <td>976</td>\n",
       "      <td>315.0</td>\n",
       "      <td>5</td>\n",
       "      <td>2445.0</td>\n",
       "      <td>1</td>\n",
       "      <td>0</td>\n",
       "    </tr>\n",
       "    <tr>\n",
       "      <th>...</th>\n",
       "      <td>...</td>\n",
       "      <td>...</td>\n",
       "      <td>...</td>\n",
       "      <td>...</td>\n",
       "      <td>...</td>\n",
       "      <td>...</td>\n",
       "      <td>...</td>\n",
       "    </tr>\n",
       "    <tr>\n",
       "      <th>9996</th>\n",
       "      <td>17220</td>\n",
       "      <td>1450</td>\n",
       "      <td>421.5</td>\n",
       "      <td>3</td>\n",
       "      <td>1759.0</td>\n",
       "      <td>0</td>\n",
       "      <td>0</td>\n",
       "    </tr>\n",
       "    <tr>\n",
       "      <th>9997</th>\n",
       "      <td>6173</td>\n",
       "      <td>1100</td>\n",
       "      <td>0.0</td>\n",
       "      <td>1</td>\n",
       "      <td>4521.0</td>\n",
       "      <td>0</td>\n",
       "      <td>1</td>\n",
       "    </tr>\n",
       "    <tr>\n",
       "      <th>9998</th>\n",
       "      <td>41944</td>\n",
       "      <td>1122</td>\n",
       "      <td>311.0</td>\n",
       "      <td>13</td>\n",
       "      <td>4087.0</td>\n",
       "      <td>0</td>\n",
       "      <td>0</td>\n",
       "    </tr>\n",
       "    <tr>\n",
       "      <th>9999</th>\n",
       "      <td>28381</td>\n",
       "      <td>1314</td>\n",
       "      <td>182.0</td>\n",
       "      <td>1</td>\n",
       "      <td>4439.0</td>\n",
       "      <td>1</td>\n",
       "      <td>0</td>\n",
       "    </tr>\n",
       "    <tr>\n",
       "      <th>10000</th>\n",
       "      <td>42406</td>\n",
       "      <td>832</td>\n",
       "      <td>281.0</td>\n",
       "      <td>11</td>\n",
       "      <td>2828.0</td>\n",
       "      <td>0</td>\n",
       "      <td>0</td>\n",
       "    </tr>\n",
       "  </tbody>\n",
       "</table>\n",
       "<p>10000 rows × 7 columns</p>\n",
       "</div>"
      ],
      "text/plain": [
       "       predictor 1  predictor 2  predictor 3  predictor 4  predictor 5  \\\n",
       "No                                                                       \n",
       "1            12423          710        441.5            5       4631.0   \n",
       "2            13983         1106          0.0            3       4256.0   \n",
       "3            15520         1276        391.5            1       4397.0   \n",
       "4            29535         1106          0.0            1       3772.0   \n",
       "5            26154          976        315.0            5       2445.0   \n",
       "...            ...          ...          ...          ...          ...   \n",
       "9996         17220         1450        421.5            3       1759.0   \n",
       "9997          6173         1100          0.0            1       4521.0   \n",
       "9998         41944         1122        311.0           13       4087.0   \n",
       "9999         28381         1314        182.0            1       4439.0   \n",
       "10000        42406          832        281.0           11       2828.0   \n",
       "\n",
       "       target  predictor 6  \n",
       "No                          \n",
       "1           1            0  \n",
       "2           1            1  \n",
       "3           0            0  \n",
       "4           1            1  \n",
       "5           1            0  \n",
       "...       ...          ...  \n",
       "9996        0            0  \n",
       "9997        0            1  \n",
       "9998        0            0  \n",
       "9999        1            0  \n",
       "10000       0            0  \n",
       "\n",
       "[10000 rows x 7 columns]"
      ]
     },
     "execution_count": 26,
     "metadata": {},
     "output_type": "execute_result"
    }
   ],
   "source": [
    "task_5 = pd.read_excel(\n",
    "    '3_task_моделирование.xlsx', \n",
    "    sheet_name = 'Задание 4'\n",
    ")[\n",
    "    ['No','predictor 1', 'predictor 2', 'predictor 3', 'predictor 4', 'predictor 5', 'target']\n",
    "]\n",
    "\n",
    "task_6 = task_5.set_index('No')\n",
    "\n",
    "task_6['predictor 6'] = task_6['predictor 3'].apply(lambda x: 1 if np.isnan(x) else 0)\n",
    "task_6['predictor 3'] = task_6['predictor 3'].fillna(0)\n",
    "task_6"
   ]
  },
  {
   "cell_type": "code",
   "execution_count": 27,
   "id": "46e497da",
   "metadata": {},
   "outputs": [
    {
     "name": "stderr",
     "output_type": "stream",
     "text": [
      "C:\\Users\\hp\\anaconda3\\lib\\site-packages\\sklearn\\utils\\validation.py:993: DataConversionWarning: A column-vector y was passed when a 1d array was expected. Please change the shape of y to (n_samples, ), for example using ravel().\n",
      "  y = column_or_1d(y, warn=True)\n"
     ]
    }
   ],
   "source": [
    "X = task_6[['predictor 1','predictor 2','predictor 3','predictor 4','predictor 5','predictor 6']]\n",
    "y = task_6[['target']]\n",
    "clf_1 = LogisticRegression(random_state=0).fit(X, y)"
   ]
  },
  {
   "cell_type": "code",
   "execution_count": 28,
   "id": "230653ed",
   "metadata": {},
   "outputs": [],
   "source": [
    "clf_2 = tree.DecisionTreeRegressor()\n",
    "clf_2 = clf_2.fit(X, y)"
   ]
  },
  {
   "cell_type": "code",
   "execution_count": 29,
   "id": "f6096702",
   "metadata": {},
   "outputs": [
    {
     "data": {
      "text/plain": [
       "array([0.])"
      ]
     },
     "execution_count": 29,
     "metadata": {},
     "output_type": "execute_result"
    }
   ],
   "source": [
    "tag = y.join( pd.DataFrame( clf_2.predict(X), index = range(1,10001) ) )\n",
    "tag['delta'] = tag['target'] - tag[0]\n",
    "tag['delta'].unique()"
   ]
  },
  {
   "cell_type": "code",
   "execution_count": 30,
   "id": "b6e0c8f1",
   "metadata": {},
   "outputs": [
    {
     "name": "stdout",
     "output_type": "stream",
     "text": [
      "ROC-AUC = 52.66%\n"
     ]
    },
    {
     "data": {
      "image/png": "[encoded data removed]",
      "text/plain": [
       "<Figure size 432x288 with 1 Axes>"
      ]
     },
     "metadata": {
      "needs_background": "light"
     },
     "output_type": "display_data"
    }
   ],
   "source": [
    "fact = task_6['target']\n",
    "test = clf_1.predict(X)\n",
    "\n",
    "\n",
    "fpr, tpr, thres = roc_curve(fact, test)\n",
    "\n",
    "auto_fpr_tpr = pd.DataFrame(fpr, tpr).reset_index()\n",
    "\n",
    "auto_fpr_tpr.columns=['tpr','fpr']\n",
    "\n",
    "print(f\"ROC-AUC = {roc_auc_score(fact, test):.2%}\")\n",
    "plt.plot( fpr, tpr )\n",
    "plt.grid()"
   ]
  },
  {
   "cell_type": "code",
   "execution_count": 31,
   "id": "d7a39fe3",
   "metadata": {},
   "outputs": [
    {
     "name": "stdout",
     "output_type": "stream",
     "text": [
      "ROC-AUC = 100.00%\n"
     ]
    },
    {
     "data": {
      "image/png": "[encoded data removed]",
      "text/plain": [
       "<Figure size 432x288 with 1 Axes>"
      ]
     },
     "metadata": {
      "needs_background": "light"
     },
     "output_type": "display_data"
    }
   ],
   "source": [
    "fact = task_6['target']\n",
    "test = clf_2.predict(X)\n",
    "\n",
    "\n",
    "fpr, tpr, thres = roc_curve(fact, test)\n",
    "\n",
    "auto_fpr_tpr = pd.DataFrame(fpr, tpr).reset_index()\n",
    "\n",
    "auto_fpr_tpr.columns=['tpr','fpr']\n",
    "\n",
    "print(f\"ROC-AUC = {roc_auc_score(fact, test):.2%}\")\n",
    "plt.plot( fpr, tpr )\n",
    "plt.grid()"
   ]
  },
  {
   "cell_type": "code",
   "execution_count": 32,
   "id": "ef8a4b19",
   "metadata": {},
   "outputs": [
    {
     "name": "stdout",
     "output_type": "stream",
     "text": [
      "Первая модель логистической регрессии имеет средненький ROC-AUC около 50%, но дерево решений угадывает всё\n",
      "В таком случае можно проверить модель на переобученность, разделив выборку на тренировочную и проверочную\n",
      "\n"
     ]
    }
   ],
   "source": [
    "print(f'''Первая модель логистической регрессии имеет средненький ROC-AUC около 50%, но дерево решений угадывает всё\n",
    "В таком случае можно проверить модель на переобученность, разделив выборку на тренировочную и проверочную\n",
    "''')"
   ]
  }
 ],
 "metadata": {
  "kernelspec": {
   "display_name": "Python 3 (ipykernel)",
   "language": "python",
   "name": "python3"
  },
  "language_info": {
   "codemirror_mode": {
    "name": "ipython",
    "version": 3
   },
   "file_extension": ".py",
   "mimetype": "text/x-python",
   "name": "python",
   "nbconvert_exporter": "python",
   "pygments_lexer": "ipython3",
   "version": "3.7.6"
  }
 },
 "nbformat": 4,
 "nbformat_minor": 5
}
